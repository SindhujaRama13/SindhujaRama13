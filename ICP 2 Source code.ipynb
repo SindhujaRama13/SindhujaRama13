{
  "nbformat": 4,
  "nbformat_minor": 0,
  "metadata": {
    "colab": {
      "provenance": [],
      "toc_visible": true
    },
    "kernelspec": {
      "name": "python3",
      "display_name": "Python 3"
    },
    "language_info": {
      "name": "python"
    }
  },
  "cells": [
    {
      "cell_type": "code",
      "execution_count": 1,
      "metadata": {
        "colab": {
          "base_uri": "https://localhost:8080/"
        },
        "id": "GJQkFK0tiuxw",
        "outputId": "3f681d91-8332-4b56-b5e2-787e8461e747"
      },
      "outputs": [
        {
          "output_type": "stream",
          "name": "stdout",
          "text": [
            "* \n",
            "* * \n",
            "* * * \n",
            "* * * * \n",
            "* * * * * \n",
            "* * * * \n",
            "* * * \n",
            "* * \n",
            "* \n"
          ]
        }
      ],
      "source": [
        "rows = 5  # Number of rows in the pattern\n",
        "\n",
        "for i in range(1, rows + 1):\n",
        "    for j in range(i):\n",
        "        print(\"*\", end=\" \")\n",
        "    print()\n",
        "\n",
        "for i in range(rows - 1, 0, -1):\n",
        "    for j in range(i):\n",
        "        print(\"*\", end=\" \")\n",
        "    print()"
      ]
    },
    {
      "cell_type": "code",
      "source": [
        "my_list = [10, 20, 30, 40, 50, 60, 70, 80, 90, 100]\n",
        "\n",
        "# Loop through the list using the index\n",
        "for i in range(len(my_list)):\n",
        "    # Check if the index is odd\n",
        "    if i % 2 != 0:\n",
        "        print(my_list[i])"
      ],
      "metadata": {
        "colab": {
          "base_uri": "https://localhost:8080/"
        },
        "id": "6m94DZ_fi4Ua",
        "outputId": "125248b0-025b-455f-acd2-e2edd0badec8"
      },
      "execution_count": 2,
      "outputs": [
        {
          "output_type": "stream",
          "name": "stdout",
          "text": [
            "20\n",
            "40\n",
            "60\n",
            "80\n",
            "100\n"
          ]
        }
      ]
    },
    {
      "cell_type": "code",
      "source": [
        "x = [23, 'Python', 23.98]\n",
        "\n",
        "# Print the input list\n",
        "print(x)\n",
        "\n",
        "# Create a list to store the types of elements\n",
        "types_list = []\n",
        "\n",
        "# Loop through each element in the input list and append its type to the types_list\n",
        "for element in x:\n",
        "    types_list.append(type(element))\n",
        "\n",
        "# Print the types_list\n",
        "print(types_list)"
      ],
      "metadata": {
        "colab": {
          "base_uri": "https://localhost:8080/"
        },
        "id": "Y8hdyeuxjQK8",
        "outputId": "1bac56ad-a993-4d19-b76a-1f3ed522d09c"
      },
      "execution_count": 3,
      "outputs": [
        {
          "output_type": "stream",
          "name": "stdout",
          "text": [
            "[23, 'Python', 23.98]\n",
            "[<class 'int'>, <class 'str'>, <class 'float'>]\n"
          ]
        }
      ]
    },
    {
      "cell_type": "code",
      "source": [
        "# Sample List\n",
        "sample_list = [1, 2, 3, 3, 3, 3, 4, 5]\n",
        "\n",
        "# Create an empty list to store unique items\n",
        "unique_list = []\n",
        "\n",
        "# Create a set to keep track of seen items\n",
        "seen = set()\n",
        "\n",
        "# Loop through each item in the sample list\n",
        "for item in sample_list:\n",
        "    # If the item is not in the seen set, add it to the unique list and the seen set\n",
        "    if item not in seen:\n",
        "        unique_list.append(item)\n",
        "        seen.add(item)\n",
        "\n",
        "# Print the sample list and the unique list\n",
        "print(\"Sample List:\", sample_list)\n",
        "print(\"Unique List:\", unique_list)"
      ],
      "metadata": {
        "colab": {
          "base_uri": "https://localhost:8080/"
        },
        "id": "iYmd0wedjhCD",
        "outputId": "4cba8131-6a1a-49e7-9ad1-d02197a41923"
      },
      "execution_count": 4,
      "outputs": [
        {
          "output_type": "stream",
          "name": "stdout",
          "text": [
            "Sample List: [1, 2, 3, 3, 3, 3, 4, 5]\n",
            "Unique List: [1, 2, 3, 4, 5]\n"
          ]
        }
      ]
    },
    {
      "cell_type": "code",
      "source": [
        "# Input String\n",
        "input_string = 'The quick Brow Fox'\n",
        "\n",
        "# Initialize counters for upper-case and lower-case letters\n",
        "upper_count = 0\n",
        "lower_count = 0\n",
        "\n",
        "# Loop through each character in the string\n",
        "for char in input_string:\n",
        "    if char.isupper():\n",
        "        upper_count += 1\n",
        "    elif char.islower():\n",
        "        lower_count += 1\n",
        "\n",
        "# Print the results\n",
        "print(f\"No. of Upper-case characters: {upper_count}\")\n",
        "print(f\"No. of Lower-case Characters: {lower_count}\")"
      ],
      "metadata": {
        "colab": {
          "base_uri": "https://localhost:8080/"
        },
        "id": "ojeg6Cj1jmVq",
        "outputId": "042f756d-7df6-43c4-b4e9-2fc24cae3b43"
      },
      "execution_count": 5,
      "outputs": [
        {
          "output_type": "stream",
          "name": "stdout",
          "text": [
            "No. of Upper-case characters: 3\n",
            "No. of Lower-case Characters: 12\n"
          ]
        }
      ]
    }
  ]
}